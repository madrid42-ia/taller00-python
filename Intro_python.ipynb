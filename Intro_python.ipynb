{
  "cells": [
    {
      "cell_type": "markdown",
      "metadata": {
        "id": "view-in-github",
        "colab_type": "text"
      },
      "source": [
        "<a href=\"https://colab.research.google.com/github/madrid42-ia/taller00-python/blob/main/Intro_python.ipynb\" target=\"_parent\"><img src=\"https://colab.research.google.com/assets/colab-badge.svg\" alt=\"Open In Colab\"/></a>"
      ]
    },
    {
      "cell_type": "markdown",
      "metadata": {
        "id": "LWHEMA__oxkA"
      },
      "source": [
        "# Bienvenidos\n",
        "\n",
        "En este taller vas a aprender a manejar jupyter notebook, utilizando la herramienta Google Colab que nos presta potencia de computo para poder entrenar a nuestros modelos de IA.\n",
        "\n",
        "Pero antes de entrenar nada necesitamos saber python, el lenguaje de programación más usadod en este sector."
      ]
    },
    {
      "cell_type": "markdown",
      "metadata": {
        "tags": [],
        "id": "SrMHfwn6oxkB"
      },
      "source": [
        "# Jupyter notebook básico\n",
        "Los jupyter notebooks son una herramienta muy utilizada por su versatilidad y capacidad para añadir gráficos e imagenes en las labores de investigación.\n",
        "\n",
        "Nos permite crear dos tipos principales de celdas:\n",
        "* De texto (en formato markdown)\n",
        "* De código (a ejectuar en python)\n",
        "\n",
        "Podemos navegar entre celdas usando las flechas y ejectuarlas usando `ctlr+Enter` para ejectuar y quedarte en la actual o `shift+Enter` para ejectuar y proseguir a la siguiente.\n",
        "\n",
        "Para más accesos directos Google Colab tiene la lista completa bajo el apartado de Herramientas. "
      ]
    },
    {
      "cell_type": "markdown",
      "metadata": {
        "id": "S-xV-DDDoxkC"
      },
      "source": [
        "# Python básico"
      ]
    },
    {
      "cell_type": "markdown",
      "metadata": {
        "id": "gjv823lqoxkC"
      },
      "source": [
        "## En python podemos declarar variables sin tipo.\n",
        "\n",
        "Ejecuta la celda de abajo y prueba lo que quieras para ver como funciona. PD: Shift enter para ejecutar una celda de codigo :P"
      ]
    },
    {
      "cell_type": "code",
      "execution_count": null,
      "metadata": {
        "id": "7RxFGFQyoxkC",
        "outputId": "82012729-49b6-4e24-ffea-f69a0b9a5ac8"
      },
      "outputs": [
        {
          "name": "stdout",
          "output_type": "stream",
          "text": [
            "5\n",
            "Hey esto también puede ser un string\n"
          ]
        }
      ],
      "source": [
        "a = 5\n",
        "print(a)\n",
        "a = \"Hey esto también puede ser un string\"\n",
        "print(a)"
      ]
    },
    {
      "cell_type": "markdown",
      "metadata": {
        "id": "hjw46tKloxkD"
      },
      "source": [
        "## En vez de llaves tenemos tabulacion\n",
        "Juega con el codigo de abajo, queda bastante limpio el codigo en python no?"
      ]
    },
    {
      "cell_type": "code",
      "execution_count": null,
      "metadata": {
        "tags": [],
        "id": "26d3Y-jQoxkD",
        "outputId": "22299558-b432-47eb-b92a-b23df660908b"
      },
      "outputs": [
        {
          "name": "stdout",
          "output_type": "stream",
          "text": [
            "Prueba a cambiar la variable condicion a False\n",
            "0\n",
            "1\n",
            "2\n",
            "3\n",
            "4\n",
            "Puedes meter este print en el while? 🐒\n"
          ]
        }
      ],
      "source": [
        "condicion = True\n",
        "if (condicion):\n",
        "    print(\"Prueba a cambiar la variable condicion a False\")\n",
        "a = 0\n",
        "while (a < 5):\n",
        "    print(a)\n",
        "    a = a + 1\n",
        "print(\"Puedes meter este print en el while? 🐒\")"
      ]
    },
    {
      "cell_type": "markdown",
      "metadata": {
        "id": "P-e2O_oZoxkE"
      },
      "source": [
        "## En vez de arrays tenemos listas\n",
        "Busca en google como imprimir la longitud de una lista y añadir un elemento."
      ]
    },
    {
      "cell_type": "code",
      "execution_count": null,
      "metadata": {
        "id": "k1w6x9KFoxkE",
        "outputId": "12625485-be5c-48ab-90e4-f9be461b214f"
      },
      "outputs": [
        {
          "name": "stdout",
          "output_type": "stream",
          "text": [
            "🚀\n"
          ]
        }
      ],
      "source": [
        "mi_lista = [1, \"hey\", \"🐒\", \"🚀\"]\n",
        "print(mi_lista[3])\n",
        "# podemos escribir comentarios asi"
      ]
    },
    {
      "cell_type": "markdown",
      "metadata": {
        "id": "YVzcJINQoxkE"
      },
      "source": [
        "## Vamos a escribir una función!\n",
        "Escribe una función que imprima los numeros desde el 0 hasta el numero pasado como argumento. Ejemplo: contar(5) imprimiria 0 1 2 3 4 5."
      ]
    },
    {
      "cell_type": "code",
      "execution_count": null,
      "metadata": {
        "id": "0Dte-jcCoxkF",
        "outputId": "668920b3-c3e3-4b9a-8835-0bc0cfb37211"
      },
      "outputs": [
        {
          "name": "stdout",
          "output_type": "stream",
          "text": [
            "13\n"
          ]
        }
      ],
      "source": [
        "def suma(a, b, c):\n",
        "    resultado = a + b + c\n",
        "    return resultado\n",
        "print(suma(3, 4, 6))"
      ]
    },
    {
      "cell_type": "markdown",
      "metadata": {
        "id": "01EOUEiFoxkF"
      },
      "source": [
        "## Un poquito de objetos\n",
        "Si todavia no conoces programacion orientada a objetos esta parte te resultara mas díficil. No dudes en preguntar a algun compañero que si sepa! O a google si eres tímido 🤷\n",
        "\n",
        "Añade el atributo velocidad y crea el método set_velocidad que cambie este atributo."
      ]
    },
    {
      "cell_type": "code",
      "execution_count": null,
      "metadata": {
        "id": "gKpFdAhJoxkF"
      },
      "outputs": [],
      "source": [
        "# Vamos a crear una clase coche\n",
        "class Coche():\n",
        "    def __init__(self, color):\n",
        "        self.color = color\n",
        "    def get_color():\n",
        "        return self.color\n",
        "\n",
        "mi_cochesito = Coche('rojo')"
      ]
    },
    {
      "cell_type": "markdown",
      "metadata": {
        "id": "KvXO1ID8oxkF"
      },
      "source": [
        "# Unos cuantos ejercicios"
      ]
    },
    {
      "cell_type": "markdown",
      "metadata": {
        "id": "619Q3fOxkA8-",
        "tags": []
      },
      "source": [
        "## SUBJECT 00 📖\n",
        "Haz una función que reciba una string y cambie las letras por el valor de la posicion que ocupan en el abecedario ( a-> 1 , b-> 2, c-> 3 ... )\n",
        " \n",
        " * Letra Ñ INCLUIDA\n",
        "\n",
        " * Si no se introducen argumentos no mostrar nada\n",
        "\n",
        " * En caso de pasar varios argumentos tratarlos como uno solo \n",
        "\n",
        " * La String SOLO puede contener LETRAS y ESPACIOS, en caso contrario no mostrar nada\n",
        "\n",
        "\n",
        "--- \n",
        "EJEMPLO\n",
        "```\n",
        "subject00('hello world') # -> 85121216 241619124\n",
        "```"
      ]
    },
    {
      "cell_type": "code",
      "execution_count": null,
      "metadata": {
        "id": "7O9GC9x0oxkG"
      },
      "outputs": [],
      "source": [
        "def subject00(string):\n",
        "    raise NotImplemented"
      ]
    },
    {
      "cell_type": "markdown",
      "metadata": {
        "id": "rWA2jOO9V5NC"
      },
      "source": [
        "## SUBJECT 01 🚗 🚘\n",
        "\n",
        "Crea una clase llamada Vehiculo que disponga de los siguientes parametros:\n",
        " \n",
        " * Marca (Nombre o marca del coche)\n",
        "\n",
        " * Velocidad_Max (120 ...)\n",
        "\n",
        " * Ocupacion_Max (5,6,7...)\n",
        "\n",
        "  ademas, debe tener una funcion llamada \n",
        "  \n",
        "  * vh_autonimia(self, kms) \n",
        "  \n",
        "  que devuelva por consola la autonmia total del vehiculo.\n",
        "\n",
        " * Crea una clase llamada Hibrido que herede de Vehiculo y modifique la funcin vh_autonimia() de manera que muestre la autonomia con combustible y la autonomia con electricidad.\n",
        "\n",
        " * Crea tu propia flota de coches, un programa en el cual se pueda añadir y quitar coches, ver sus conductores, viajes realizados y comparar su rentabilidad. \n",
        " \n",
        "---"
      ]
    },
    {
      "cell_type": "code",
      "execution_count": null,
      "metadata": {
        "id": "KPBJ6rJFoxkG"
      },
      "outputs": [],
      "source": [
        "# class Vehiculo:"
      ]
    },
    {
      "cell_type": "markdown",
      "metadata": {
        "tags": [],
        "id": "a9jR5aFaoxkH"
      },
      "source": [
        "## SUBJECT 02 ❌ ⭕️\n",
        "Imagina una patida de tres en raya donde el tablero se representa como la matriz de la siguiente celda.\n",
        "```\n",
        "A:  X | O | X\n",
        "   -----------\n",
        "B:    |   |  \n",
        "   -----------\n",
        "C:  O |   |\n",
        "\n",
        "    1   2   3\n",
        "```\n",
        "Escribe una función `get_row_col` que coja un tablero y una situación del tablero de la forma \"C1\" y devuelva el elemento ❌ o ⭕️ correspondiente con esa posición.\n",
        "\n",
        "---"
      ]
    },
    {
      "cell_type": "code",
      "execution_count": null,
      "metadata": {
        "id": "IZzdrwFGoxkH"
      },
      "outputs": [],
      "source": [
        "board = [\n",
        "    [\"🐵\", \"🍌\", \"🍌\"],\n",
        "    [\"  \", \"  \", \"  \"],\n",
        "    [\"🐵\", \"  \", \"  \"],\n",
        "]\n",
        "#get_row_col('A2') # -> 🍌"
      ]
    },
    {
      "cell_type": "markdown",
      "metadata": {
        "id": "_McBvAVooxkH"
      },
      "source": [
        "## SUBJECT 03 💯\n",
        "Write a function named format_number that takes a non-negative number as its only parameter.\n",
        "\n",
        "Escribe una función llamada `format_number` que coja un número positivo como parámetro y lo combierta a string añadiendo comas para separas los millares.\n",
        "\n",
        "---"
      ]
    },
    {
      "cell_type": "code",
      "execution_count": null,
      "metadata": {
        "id": "SWM5ydkpoxkH"
      },
      "outputs": [],
      "source": [
        "# format_number(1000000) # -> \"1,000,000\""
      ]
    },
    {
      "cell_type": "markdown",
      "metadata": {
        "id": "CAnDav_WoxkH"
      },
      "source": [
        "## SUBJECT 04 💬\n",
        "Dos string son anagramas si puedes conseguir uno de ellos mediante reorganizando las letras del otro.\n",
        "\n",
        "Escribe una función `is_anagram` que coja dos strings como parametros y devuelva `True` si son anagramas y `False` si no\n",
        "\n",
        "---"
      ]
    },
    {
      "cell_type": "code",
      "execution_count": null,
      "metadata": {
        "id": "kOaXVURmoxkI"
      },
      "outputs": [],
      "source": [
        "# is_anagram(\"typhoon\", \"opython\") # -> True\n",
        "# is_anagram(\"Alice\", \"Bob\") # -> Flase"
      ]
    }
  ],
  "metadata": {
    "interpreter": {
      "hash": "31f2aee4e71d21fbe5cf8b01ff0e069b9275f58929596ceb00d14d90e3e16cd6"
    },
    "kernelspec": {
      "display_name": "Python 3",
      "language": "python",
      "name": "python3"
    },
    "language_info": {
      "codemirror_mode": {
        "name": "ipython",
        "version": 3
      },
      "file_extension": ".py",
      "mimetype": "text/x-python",
      "name": "python",
      "nbconvert_exporter": "python",
      "pygments_lexer": "ipython3",
      "version": "3.9.7"
    },
    "toc-autonumbering": true,
    "toc-showcode": false,
    "toc-showtags": false,
    "colab": {
      "name": "Intro_python.ipynb",
      "provenance": [],
      "collapsed_sections": [],
      "toc_visible": true,
      "include_colab_link": true
    }
  },
  "nbformat": 4,
  "nbformat_minor": 0
}
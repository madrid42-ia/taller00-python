{
 "cells": [
  {
   "cell_type": "markdown",
   "metadata": {
    "colab_type": "text",
    "id": "view-in-github"
   },
   "source": [
    "<a href=\"https://colab.research.google.com/github/madrid42-ia/taller00-python/blob/main/Intro_python.ipynb\" target=\"_parent\"><img src=\"https://colab.research.google.com/assets/colab-badge.svg\" alt=\"Open In Colab\"/></a>"
   ]
  },
  {
   "cell_type": "markdown",
   "metadata": {
    "id": "LWHEMA__oxkA"
   },
   "source": [
    "# Bienvenidos\n",
    "\n",
    "En este taller vas a aprender a manejar Jupyter Notebook, utilizando la herramienta Google Colab que nos presta potencia de cómputo para poder entrenar a nuestros modelos de IA.\n",
    "\n",
    "Pero antes de entrenar nada, necesitamos saber Python 🐍: el lenguaje de programación más usado en este sector."
   ]
  },
  {
   "cell_type": "markdown",
   "metadata": {
    "id": "SrMHfwn6oxkB",
    "tags": []
   },
   "source": [
    "# Jupyter Notebook básico\n",
    "Los Jupyter Notebooks son una herramienta muy utilizada por su versatilidad y capacidad para añadir gráficos e imagenes en las labores de investigación.\n",
    "\n",
    "Nos permite crear dos tipos principales de celdas:\n",
    "* De texto (en formato markdown)\n",
    "* De código (a ejectuar en python)\n",
    "\n",
    "Podemos navegar entre celdas usando las flechas y ejectuarlas usando `ctrl + Enter` para ejectuar y quedarte en la actual o `shift + Enter` para ejectuar y continuar a la siguiente.\n",
    "\n",
    "Para más accesos directos Google Colab, tienes la lista completa bajo el apartado de Herramientas. "
   ]
  },
  {
   "cell_type": "markdown",
   "metadata": {
    "id": "S-xV-DDDoxkC"
   },
   "source": [
    "# Python básico"
   ]
  },
  {
   "cell_type": "markdown",
   "metadata": {
    "id": "gjv823lqoxkC"
   },
   "source": [
    "## En Python podemos declarar variables sin tipo.\n",
    "\n",
    "Ejecuta la celda de abajo y prueba lo que quieras para ver cómo funciona."
   ]
  },
  {
   "cell_type": "code",
   "execution_count": 1,
   "metadata": {
    "id": "7RxFGFQyoxkC",
    "outputId": "82012729-49b6-4e24-ffea-f69a0b9a5ac8"
   },
   "outputs": [
    {
     "name": "stdout",
     "output_type": "stream",
     "text": [
      "5\n",
      "Hey esto también puede ser un string\n"
     ]
    }
   ],
   "source": [
    "a = 5\n",
    "print(a)\n",
    "a = \"Hey esto también puede ser un string\"\n",
    "print(a)"
   ]
  },
  {
   "cell_type": "markdown",
   "metadata": {
    "id": "hjw46tKloxkD"
   },
   "source": [
    "## En vez de llaves, tenemos tabulaciones\n",
    "Juega con el código de abajo, el código queda bastante limpio, ¿verdad?"
   ]
  },
  {
   "cell_type": "code",
   "execution_count": 2,
   "metadata": {
    "id": "26d3Y-jQoxkD",
    "outputId": "22299558-b432-47eb-b92a-b23df660908b",
    "tags": []
   },
   "outputs": [
    {
     "name": "stdout",
     "output_type": "stream",
     "text": [
      "Prueba a cambiar la variable condicion a False\n",
      "0\n",
      "1\n",
      "2\n",
      "3\n",
      "4\n",
      "¿Puedes meter este print en el while? 🐒\n"
     ]
    }
   ],
   "source": [
    "condicion = True\n",
    "if (condicion):\n",
    "    print(\"Prueba a cambiar la variable condicion a False\")\n",
    "a = 0\n",
    "while (a < 5):\n",
    "    print(a)\n",
    "    a = a + 1\n",
    "print(\"¿Puedes meter este print en el while? 🐒\")"
   ]
  },
  {
   "cell_type": "markdown",
   "metadata": {
    "id": "P-e2O_oZoxkE"
   },
   "source": [
    "## En vez de Arrays, tenemos Listas\n",
    "Busca en Google como imprimir la longitud de una lista y añadir un elemento a la misma."
   ]
  },
  {
   "cell_type": "code",
   "execution_count": 3,
   "metadata": {
    "id": "k1w6x9KFoxkE",
    "outputId": "12625485-be5c-48ab-90e4-f9be461b214f"
   },
   "outputs": [
    {
     "name": "stdout",
     "output_type": "stream",
     "text": [
      "🚀\n"
     ]
    }
   ],
   "source": [
    "mi_lista = [1, \"hey\", \"🐒\", \"🚀\"]\n",
    "print(mi_lista[3])\n",
    "# Podemos escribir comentarios así"
   ]
  },
  {
   "cell_type": "markdown",
   "metadata": {
    "id": "YVzcJINQoxkE"
   },
   "source": [
    "## ¡Vamos a escribir una función!\n",
    "Escribe una función que imprima los numeros desde el 0 hasta el numero pasado como argumento. Ejemplo: `contar(5)`, imprimirá `0 1 2 3 4 5`."
   ]
  },
  {
   "cell_type": "code",
   "execution_count": 4,
   "metadata": {
    "id": "0Dte-jcCoxkF",
    "outputId": "668920b3-c3e3-4b9a-8835-0bc0cfb37211"
   },
   "outputs": [
    {
     "name": "stdout",
     "output_type": "stream",
     "text": [
      "13\n"
     ]
    }
   ],
   "source": [
    "def suma(a, b, c):\n",
    "    resultado = a + b + c\n",
    "    return resultado\n",
    "print(suma(3, 4, 6))\n",
    "\n",
    "# Prueba a crear aquí abajo la función "
   ]
  },
  {
   "cell_type": "markdown",
   "metadata": {
    "id": "01EOUEiFoxkF"
   },
   "source": [
    "## Un poquito de objetos\n",
    "Si todavia no conoces la Programacion Orientada a Objetos, esta parte puede que te resulte mas díficil. ¡No dudes en preguntar a algun compañero que sí sepa! (O a Google si eres más tímido 🤷)\n",
    "\n",
    "Añade el atributo `velocidad` y crea el método `set_velocidad` que cambie este atributo."
   ]
  },
  {
   "cell_type": "code",
   "execution_count": 5,
   "metadata": {
    "id": "gKpFdAhJoxkF"
   },
   "outputs": [],
   "source": [
    "# Vamos a crear una clase Coche\n",
    "class Coche():\n",
    "    def __init__(self, color):\n",
    "        self.color = color\n",
    "    def get_color():\n",
    "        return self.color\n",
    "\n",
    "my_moms_car = Coche('rojo')"
   ]
  },
  {
   "cell_type": "markdown",
   "metadata": {
    "id": "KvXO1ID8oxkF"
   },
   "source": [
    "# Unos pocos ejercicios para practicar"
   ]
  },
  {
   "cell_type": "markdown",
   "metadata": {
    "id": "619Q3fOxkA8-",
    "tags": []
   },
   "source": [
    "## SUBJECT 00 📖\n",
    "Haz una función `ofuscate()`que reciba una string por parámetro, cambie las letras por el valor de la posicion que ocupan en el abecedario ( a-> 1 , b-> 2, c-> 3 ... ), y finalmente lo imprima por consola.\n",
    " \n",
    " * Letra Ñ INCLUIDA\n",
    "\n",
    " * Si no se introducen argumentos no debe mostrar nada\n",
    "\n",
    " * La String SÓLO puede contener LETRAS y ESPACIOS. En caso contrario, no debe mostrar nada\n",
    "\n",
    " * Los espacios no se tratarán, pero sí deben mostrarse.\n",
    "\n",
    "\n",
    "--- \n",
    "EJEMPLO\n",
    "```\n",
    "ofuscate('hello world') # -> 85121216 241619124\n",
    "```"
   ]
  },
  {
   "cell_type": "code",
   "execution_count": 6,
   "metadata": {
    "id": "7O9GC9x0oxkG"
   },
   "outputs": [
    {
     "data": {
      "text/plain": [
       "'85121215 231518124'"
      ]
     },
     "execution_count": 6,
     "metadata": {},
     "output_type": "execute_result"
    }
   ],
   "source": [
    "def ofuscate(string):\n",
    "    abc_m = [chr(i) for i in range(ord('a'), ord('z'))]\n",
    "    abc_M = [chr(i) for i in range(ord('A'), ord('Z'))]\n",
    "    result = []\n",
    "\n",
    "    for letter in string:\n",
    "        if letter in abc_m:\n",
    "            result.append(str(abc_m.index(letter) + 1))\n",
    "        elif letter in abc_M:\n",
    "            result.append(str(abc_M.index(letter) + 1))\n",
    "        else:\n",
    "            result.append(' ')   \n",
    "        \n",
    "    return ''.join(result)\n",
    "\n",
    "ofuscate('hello world')"
   ]
  },
  {
   "cell_type": "markdown",
   "metadata": {
    "id": "a9jR5aFaoxkH",
    "tags": []
   },
   "source": [
    "## SUBJECT 01 ❌ ⭕️\n",
    "Imagina una patida de tres en raya donde el tablero se representa como la matriz mostrada a continuación:\n",
    "```\n",
    "A:  X | O | X\n",
    "   -----------\n",
    "B:    |   |  \n",
    "   -----------\n",
    "C:  O |   |\n",
    "\n",
    "    1   2   3\n",
    "```\n",
    "Escribe una función `get_row_col()` que, dado un tablero y una posición del tablero (por ejemplo:  `\"C1\"`),  devuelva el elemento ❌ o ⭕️ correspondiente con esa posición.\n",
    "\n",
    "Si quieres, puedes sustituir los emojis (❌ y ⭕️) por cualquier otra cosa. Por ejemplo *Monkis 🐵* y *Plátanos 🍌*\n",
    "\n",
    "---"
   ]
  },
  {
   "cell_type": "code",
   "execution_count": 7,
   "metadata": {
    "id": "IZzdrwFGoxkH"
   },
   "outputs": [
    {
     "data": {
      "text/plain": [
       "'🍌'"
      ]
     },
     "execution_count": 7,
     "metadata": {},
     "output_type": "execute_result"
    }
   ],
   "source": [
    "board = [\n",
    "    [\"🐵\", \"🍌\", \"🍌\"],\n",
    "    [\"  \", \"  \", \"  \"],\n",
    "    [\"🐵\", \"  \", \"  \"],\n",
    "]\n",
    "#get_row_col('A2') # -> 🍌\n",
    "\n",
    "# ¿Qué tal si intentas resolverlo por aquí abajo?:\n",
    "def get_row_col(cell, board):\n",
    "    rows = {'A' : 0, 'B': 1, 'C': 2}\n",
    "    row = rows[cell[0]]\n",
    "    col = int(cell[1])\n",
    "    return board[row][col]\n",
    "\n",
    "\n",
    "get_row_col('A2', board)"
   ]
  },
  {
   "cell_type": "markdown",
   "metadata": {
    "id": "_McBvAVooxkH"
   },
   "source": [
    "## SUBJECT 02 💯\n",
    "Escribe una función llamada `format_number()` que, dado un número positivo por parámetro, lo convierta a `string` añadiendo comas para separas los millares.\n",
    "\n",
    "---"
   ]
  },
  {
   "cell_type": "code",
   "execution_count": 8,
   "metadata": {
    "id": "SWM5ydkpoxkH"
   },
   "outputs": [
    {
     "data": {
      "text/plain": [
       "'1,000,000'"
      ]
     },
     "execution_count": 8,
     "metadata": {},
     "output_type": "execute_result"
    }
   ],
   "source": [
    "# format_number(1000000) # -> \"1,000,000\"\n",
    "\n",
    "# Por aquí hay espacio para unas cuantas líneas de código:\n",
    "def format_number(num):\n",
    "    return f'{num:,}'\n",
    "\n",
    "\n",
    "format_number(1000000)"
   ]
  },
  {
   "cell_type": "markdown",
   "metadata": {
    "id": "CAnDav_WoxkH"
   },
   "source": [
    "## SUBJECT 03 💬\n",
    "Dos string son anagramas si puedes conseguir una de ellas reorganizando las letras de la otra.\n",
    "\n",
    "Escribe una función `is_anagram()` que, dadas dos strings por parametros, devuelva `True` si son anagramas o `False` si no lo son.\n",
    "\n",
    "---"
   ]
  },
  {
   "cell_type": "code",
   "execution_count": 9,
   "metadata": {
    "id": "kOaXVURmoxkI"
   },
   "outputs": [
    {
     "data": {
      "text/plain": [
       "False"
      ]
     },
     "execution_count": 9,
     "metadata": {},
     "output_type": "execute_result"
    }
   ],
   "source": [
    "# is_anagram(\"typhoon\", \"opython\") # -> True\n",
    "# is_anagram(\"Alice\", \"Bob\") # -> Flase\n",
    "\n",
    "# Puedes escribir el código por aquí abajo, como siempre:\n",
    "def is_anagram(str1, str2):\n",
    "    dic1 = dict()\n",
    "    dic2 = dict()\n",
    "    \n",
    "    for str_, dic in zip((str1, str2), (dic1, dic2)):\n",
    "        for l in str_:\n",
    "            if l in dic:\n",
    "                dic[l] += 1\n",
    "            else:\n",
    "                dic[l] = 1\n",
    "                \n",
    "    return dic1 == dic2\n",
    "\n",
    "    \n",
    "is_anagram(\"typhoon\", \"opython\")\n",
    "is_anagram(\"Alice\", \"Bob\")"
   ]
  }
 ],
 "metadata": {
  "colab": {
   "collapsed_sections": [],
   "include_colab_link": true,
   "name": "Intro_python.ipynb",
   "provenance": [],
   "toc_visible": true
  },
  "interpreter": {
   "hash": "31f2aee4e71d21fbe5cf8b01ff0e069b9275f58929596ceb00d14d90e3e16cd6"
  },
  "kernelspec": {
   "display_name": "Python 3",
   "language": "python",
   "name": "python3"
  },
  "language_info": {
   "codemirror_mode": {
    "name": "ipython",
    "version": 3
   },
   "file_extension": ".py",
   "mimetype": "text/x-python",
   "name": "python",
   "nbconvert_exporter": "python",
   "pygments_lexer": "ipython3",
   "version": "3.9.7"
  },
  "toc-autonumbering": true,
  "toc-showcode": false,
  "toc-showtags": false
 },
 "nbformat": 4,
 "nbformat_minor": 4
}
